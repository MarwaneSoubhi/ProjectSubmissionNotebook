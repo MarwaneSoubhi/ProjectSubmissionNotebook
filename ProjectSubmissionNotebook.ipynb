{
 "cells": [
  {
   "cell_type": "code",
   "execution_count": 3,
   "id": "9ceeddd6",
   "metadata": {},
   "outputs": [],
   "source": [
    "import pandas as pd"
   ]
  },
  {
   "cell_type": "code",
   "execution_count": 9,
   "id": "5e1279f6",
   "metadata": {},
   "outputs": [],
   "source": [
    "df = pd.read_csv('/Users/tomorrowas/Downloads/ds-admissions-challenge-master/results.csv')"
   ]
  },
  {
   "cell_type": "code",
   "execution_count": 12,
   "id": "737970f6",
   "metadata": {},
   "outputs": [
    {
     "data": {
      "text/html": [
       "<div>\n",
       "<style scoped>\n",
       "    .dataframe tbody tr th:only-of-type {\n",
       "        vertical-align: middle;\n",
       "    }\n",
       "\n",
       "    .dataframe tbody tr th {\n",
       "        vertical-align: top;\n",
       "    }\n",
       "\n",
       "    .dataframe thead th {\n",
       "        text-align: right;\n",
       "    }\n",
       "</style>\n",
       "<table border=\"1\" class=\"dataframe\">\n",
       "  <thead>\n",
       "    <tr style=\"text-align: right;\">\n",
       "      <th></th>\n",
       "      <th>date</th>\n",
       "      <th>home_team</th>\n",
       "      <th>away_team</th>\n",
       "      <th>home_score</th>\n",
       "      <th>away_score</th>\n",
       "      <th>tournament</th>\n",
       "      <th>city</th>\n",
       "      <th>country</th>\n",
       "      <th>neutral</th>\n",
       "    </tr>\n",
       "  </thead>\n",
       "  <tbody>\n",
       "    <tr>\n",
       "      <th>0</th>\n",
       "      <td>1872-11-30</td>\n",
       "      <td>Scotland</td>\n",
       "      <td>England</td>\n",
       "      <td>0</td>\n",
       "      <td>0</td>\n",
       "      <td>Friendly</td>\n",
       "      <td>Glasgow</td>\n",
       "      <td>Scotland</td>\n",
       "      <td>False</td>\n",
       "    </tr>\n",
       "    <tr>\n",
       "      <th>1</th>\n",
       "      <td>1873-03-08</td>\n",
       "      <td>England</td>\n",
       "      <td>Scotland</td>\n",
       "      <td>4</td>\n",
       "      <td>2</td>\n",
       "      <td>Friendly</td>\n",
       "      <td>London</td>\n",
       "      <td>England</td>\n",
       "      <td>False</td>\n",
       "    </tr>\n",
       "    <tr>\n",
       "      <th>2</th>\n",
       "      <td>1874-03-07</td>\n",
       "      <td>Scotland</td>\n",
       "      <td>England</td>\n",
       "      <td>2</td>\n",
       "      <td>1</td>\n",
       "      <td>Friendly</td>\n",
       "      <td>Glasgow</td>\n",
       "      <td>Scotland</td>\n",
       "      <td>False</td>\n",
       "    </tr>\n",
       "    <tr>\n",
       "      <th>3</th>\n",
       "      <td>1875-03-06</td>\n",
       "      <td>England</td>\n",
       "      <td>Scotland</td>\n",
       "      <td>2</td>\n",
       "      <td>2</td>\n",
       "      <td>Friendly</td>\n",
       "      <td>London</td>\n",
       "      <td>England</td>\n",
       "      <td>False</td>\n",
       "    </tr>\n",
       "    <tr>\n",
       "      <th>4</th>\n",
       "      <td>1876-03-04</td>\n",
       "      <td>Scotland</td>\n",
       "      <td>England</td>\n",
       "      <td>3</td>\n",
       "      <td>0</td>\n",
       "      <td>Friendly</td>\n",
       "      <td>Glasgow</td>\n",
       "      <td>Scotland</td>\n",
       "      <td>False</td>\n",
       "    </tr>\n",
       "  </tbody>\n",
       "</table>\n",
       "</div>"
      ],
      "text/plain": [
       "         date home_team away_team  home_score  away_score tournament     city  \\\n",
       "0  1872-11-30  Scotland   England           0           0   Friendly  Glasgow   \n",
       "1  1873-03-08   England  Scotland           4           2   Friendly   London   \n",
       "2  1874-03-07  Scotland   England           2           1   Friendly  Glasgow   \n",
       "3  1875-03-06   England  Scotland           2           2   Friendly   London   \n",
       "4  1876-03-04  Scotland   England           3           0   Friendly  Glasgow   \n",
       "\n",
       "    country  neutral  \n",
       "0  Scotland    False  \n",
       "1   England    False  \n",
       "2  Scotland    False  \n",
       "3   England    False  \n",
       "4  Scotland    False  "
      ]
     },
     "execution_count": 12,
     "metadata": {},
     "output_type": "execute_result"
    }
   ],
   "source": [
    "df.head()"
   ]
  },
  {
   "cell_type": "markdown",
   "id": "aa5b5eb6",
   "metadata": {},
   "source": [
    "# What is the average number of goals for the home team?"
   ]
  },
  {
   "cell_type": "code",
   "execution_count": 14,
   "id": "8458fe41",
   "metadata": {},
   "outputs": [
    {
     "name": "stdout",
     "output_type": "stream",
     "text": [
      "Average number of goals for the home team: 1.7393136930376256\n"
     ]
    }
   ],
   "source": [
    "average_home_goals = df['home_score'].mean()\n",
    "print(\"Average number of goals for the home team:\", average_home_goals)"
   ]
  },
  {
   "cell_type": "markdown",
   "id": "9b9f4fce",
   "metadata": {},
   "source": [
    "# What is the average number of goals for the away team?"
   ]
  },
  {
   "cell_type": "code",
   "execution_count": 15,
   "id": "0332366a",
   "metadata": {},
   "outputs": [
    {
     "name": "stdout",
     "output_type": "stream",
     "text": [
      "Average number of goals for the away team 1.1782412004854905\n"
     ]
    }
   ],
   "source": [
    "average_away_goals = df['away_score'].mean()\n",
    "print(\"Average number of goals for the away team\", average_away_goals)"
   ]
  },
  {
   "cell_type": "markdown",
   "id": "28e5e46b",
   "metadata": {},
   "source": [
    "# What is the country with the highest overall home score ? "
   ]
  },
  {
   "cell_type": "code",
   "execution_count": 18,
   "id": "2136d3ff",
   "metadata": {},
   "outputs": [
    {
     "name": "stdout",
     "output_type": "stream",
     "text": [
      "Country with the highest overall home score: Brazil\n"
     ]
    }
   ],
   "source": [
    "home_scores_by_country = df.groupby('home_team')['home_score'].sum()\n",
    "country_with_highest_home_score = home_scores_by_country.idxmax()\n",
    "print(\"Country with the highest overall home score:\", country_with_highest_home_score)"
   ]
  },
  {
   "cell_type": "markdown",
   "id": "dff30f65",
   "metadata": {},
   "source": [
    "# What are the top 3 types pf tournament ? "
   ]
  },
  {
   "cell_type": "code",
   "execution_count": 23,
   "id": "11ded134",
   "metadata": {},
   "outputs": [
    {
     "name": "stdout",
     "output_type": "stream",
     "text": [
      "Top 3 types of tournaments: tournament\n",
      "Friendly                        17773\n",
      "FIFA World Cup qualification     8016\n",
      "UEFA Euro qualification          2815\n",
      "Name: count, dtype: int64\n"
     ]
    }
   ],
   "source": [
    "tournament_counts = df['tournament'].value_counts()\n",
    "top_3_tournaments = tournament_counts.head(3)\n",
    "print(\"Top 3 types of tournaments:\",top_3_tournaments)\n",
    "\n"
   ]
  },
  {
   "cell_type": "markdown",
   "id": "b390abf4",
   "metadata": {},
   "source": [
    "# Which country has the highest overall FIFA World Cup goals?"
   ]
  },
  {
   "cell_type": "code",
   "execution_count": 27,
   "id": "a4de9cca",
   "metadata": {},
   "outputs": [
    {
     "name": "stdout",
     "output_type": "stream",
     "text": [
      "Country with the highest overall FIFA World Cup goals: Brazil\n"
     ]
    }
   ],
   "source": [
    "fifa_df = df[df['tournament'] == 'FIFA World Cup'].copy()\n",
    "fifa_df['total_score'] = fifa_df['home_score'] + fifa_df['away_score']\n",
    "total_goals_by_country = fifa_df.groupby('home_team')['total_score'].sum()\n",
    "country_with_highest_goals = total_goals_by_country.idxmax()\n",
    "\n",
    "print(\"Country with the highest overall FIFA World Cup goals:\", country_with_highest_goals)"
   ]
  },
  {
   "cell_type": "code",
   "execution_count": null,
   "id": "e43e8cc5",
   "metadata": {},
   "outputs": [],
   "source": []
  }
 ],
 "metadata": {
  "kernelspec": {
   "display_name": "Python 3 (ipykernel)",
   "language": "python",
   "name": "python3"
  },
  "language_info": {
   "codemirror_mode": {
    "name": "ipython",
    "version": 3
   },
   "file_extension": ".py",
   "mimetype": "text/x-python",
   "name": "python",
   "nbconvert_exporter": "python",
   "pygments_lexer": "ipython3",
   "version": "3.11.7"
  }
 },
 "nbformat": 4,
 "nbformat_minor": 5
}
